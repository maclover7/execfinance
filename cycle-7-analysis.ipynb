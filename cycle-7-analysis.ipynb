{
 "cells": [
  {
   "cell_type": "markdown",
   "id": "744cd275-442a-4fdc-a7dc-c4d8a6b71ffb",
   "metadata": {},
   "source": [
    "# Analyze Cycle 7 reports for County Executive candidates currently in office"
   ]
  },
  {
   "cell_type": "code",
   "execution_count": 1,
   "id": "fa52b158-8983-43da-9503-91a6822a2f2d",
   "metadata": {},
   "outputs": [],
   "source": [
    "from functools import reduce\n",
    "import glob\n",
    "import pandas as pd\n",
    "from PyPDF2 import PdfReader\n",
    "import re"
   ]
  },
  {
   "cell_type": "code",
   "execution_count": 2,
   "id": "d985cfb7-c409-4f4d-9ac0-ad76d0a8ea9a",
   "metadata": {},
   "outputs": [],
   "source": [
    "CONTRIB_REGEX = r'Full Name of Contrib.*\\n(.*)\\n(.*)\\n(.*)\\n(.*)\\n(.*)\\n(.*)\\n(\\d+)\\n(\\d+)\\n(\\d+)\\n'\n",
    "RECEIPT_REGEX = r'Full Name \\n(.*)\\n(.*)\\n(.*)\\n(.*)\\n(.*)\\n(.*)\\n(\\d+)\\n(\\d+)\\n(\\d+)\\nReceipt Description\\n.*\\n'\n",
    "UNITEMIZED_REGEX = r'Unitemized  Contributions Received - \\$ 50.00 or Less Per Contributor\\nTOTAL for the Reporting Period           \\(1\\)\\n\\$\\n(.*)\\n'\n",
    "\n",
    "def flatten(l):\n",
    "    return [item for sublist in l for item in sublist]\n",
    "\n",
    "def get_contributions(filename):\n",
    "    contributions = []\n",
    "    contributions.append(flatten(process_report(filename)))\n",
    "\n",
    "    df = pd.DataFrame(\n",
    "        flatten(contributions),\n",
    "        columns=['name', 'address1', 'city', 'state', 'zipcode', 'amount', 'month', 'day', 'year'])\n",
    "    df['name'] = df.name.str.upper()\n",
    "    df['amount'] = pd.to_numeric(df.amount.str.replace(',', ''))\n",
    "\n",
    "    return df\n",
    "\n",
    "def process_report(filename):\n",
    "    reader = PdfReader(filename)\n",
    "    text = \"\"\n",
    "\n",
    "    for page in reader.pages:\n",
    "        text += page.extract_text() + \"\\n\"\n",
    "\n",
    "    unitemized = re.findall(UNITEMIZED_REGEX, text)\n",
    "    if len(unitemized) == 0:\n",
    "        unitemized = []\n",
    "    else:\n",
    "        unitemized = [(\n",
    "            'UNITEMIZED',\n",
    "            '',\n",
    "            'PITTSBURGH',\n",
    "            'PA',\n",
    "            '',\n",
    "            unitemized[0],\n",
    "            '',\n",
    "            '',\n",
    "            ''\n",
    "        )]\n",
    "\n",
    "    return [\n",
    "        re.findall(CONTRIB_REGEX, text),\n",
    "        re.findall(RECEIPT_REGEX, text),\n",
    "        unitemized\n",
    "    ]"
   ]
  },
  {
   "cell_type": "markdown",
   "id": "74809893-99d1-4b0c-b327-e2bc8efb9427",
   "metadata": {},
   "source": [
    "### Load analysis from previous reports"
   ]
  },
  {
   "cell_type": "code",
   "execution_count": 3,
   "id": "76cf9c64-8ad7-42ce-b4f4-d800d66a113b",
   "metadata": {},
   "outputs": [],
   "source": [
    "pastleaders = pd.read_csv('output/wein-inna-lamb-top.csv')"
   ]
  },
  {
   "cell_type": "markdown",
   "id": "0c6828b0-da32-47f9-bfa9-2120ced4d4ed",
   "metadata": {},
   "source": [
    "### Load Cycle 7 reports for 2022"
   ]
  },
  {
   "cell_type": "markdown",
   "id": "1d8c5053-2fc1-4825-a349-cee5a9994cfa",
   "metadata": {},
   "source": [
    "##### John Weinstein (state committee)"
   ]
  },
  {
   "cell_type": "code",
   "execution_count": 4,
   "id": "706f739a-3af9-4040-9696-da3f914c4b14",
   "metadata": {},
   "outputs": [],
   "source": [
    "df_weinstein = get_contributions('input/blank.pdf')\n",
    "df_weinstein = df_weinstein.rename(columns={'amount': 'amount_wein'})\n",
    "\n",
    "df_weinstein['name'] = df_weinstein.name.replace({\n",
    "    \"AMALGAMATED TRANSIT UNION COPE\": \"ATU COPE VOLUNTARY ACCOUNT\",\n",
    "    \"IBEW LOCAL UNION NO. 5 PAC\": \"LOCAL 0005 IBEW PAC\",\n",
    "    \"MIDATLANTIC POLITICAL LEAGUE - MALPA\": \"MID-ATLANTIC LABORERS' POLITICAL LEAGUE\",\n",
    "    \"STEAMFITTERS LOCAL UNON #449\": \"LOCAL 0449 STEAMFITTERS UNION PAC\",\n",
    "    \"STEAMFITTERS LOCAL UNION 449 PAC FUND\": \"LOCAL 0449 STEAMFITTERS UNION PAC\",\n",
    "    \"PLUMBERS LOCAL UNION NO. 27 PAC\": \"LOCAL 0027 PLUMBERS UNION PAC\",\n",
    "    \"BRICKLAYERS &AMP; ALLIED CRAFTWORKERS LOCAL 9 PAC\": \"LOCAL 0009 BRICKLAYERS & ALLIED CRAFTWORKERS PA PAC\",\n",
    "    \"PITTSBURGH FIRE FIGHTERS LOCAL NO 1 FIRE PAC ACCOUNT\": \"PGH FIRE FIGHTERS LOCAL #1 FIRE PAC\",\n",
    "    \"TEAMSTERS LOCAL UNION 249 - DRIVE FUND\": \"LOCAL 0249 TEAMSTERS DRIVE\",\n",
    "    \"U.W.U.A. LOCAL 433 PAC\": \"LOCAL 0433 UWUA (UTILITY WORKERS)\",\n",
    "    \"TEAMSTER JOINT COUNCIL 40 PAC\": \"TEAMSTERS JT COUNCIL 40 PAC\",\n",
    "    \"AFSCME COUNCIL 13 POLITICAL &AMP; LEGISLATIVE\": \"AFSCME COUNCIL 13 POL & LEG ACCT\",\n",
    "    # Laborers\n",
    "    \"LABORERS DISTRICT COUNCIL OF WESTERN PENNSYLVANIA\": \"WESTERN PENNSYLVANIA LABORERS 2019 PAC\",\n",
    "    \"LABORERS' DISTRICT COUNCIL OF WESTERN PENNSYLVANIA\": \"WESTERN PENNSYLVANIA LABORERS 2019 PAC\",\n",
    "    \"WESTERN PA LABORERS UNION PAC\": \"WESTERN PENNSYLVANIA LABORERS 2019 PAC\",\n",
    "    \"WESTERN PENNSYLVANIA LABORERS\": \"WESTERN PENNSYLVANIA LABORERS 2019 PAC\",\n",
    "    \"WESTERN PENNSYLVANIA LABORERS' PAC\": \"WESTERN PENNSYLVANIA LABORERS 2019 PAC\",\n",
    "})"
   ]
  },
  {
   "cell_type": "code",
   "execution_count": 5,
   "id": "d2eecbbe-14b0-4ed4-90fd-82343c80d9d7",
   "metadata": {},
   "outputs": [
    {
     "data": {
      "text/html": [
       "<div>\n",
       "<style scoped>\n",
       "    .dataframe tbody tr th:only-of-type {\n",
       "        vertical-align: middle;\n",
       "    }\n",
       "\n",
       "    .dataframe tbody tr th {\n",
       "        vertical-align: top;\n",
       "    }\n",
       "\n",
       "    .dataframe thead th {\n",
       "        text-align: right;\n",
       "    }\n",
       "</style>\n",
       "<table border=\"1\" class=\"dataframe\">\n",
       "  <thead>\n",
       "    <tr style=\"text-align: right;\">\n",
       "      <th></th>\n",
       "      <th>name</th>\n",
       "      <th>amount_wein</th>\n",
       "      <th>pct_wein</th>\n",
       "    </tr>\n",
       "  </thead>\n",
       "  <tbody>\n",
       "  </tbody>\n",
       "</table>\n",
       "</div>"
      ],
      "text/plain": [
       "Empty DataFrame\n",
       "Columns: [name, amount_wein, pct_wein]\n",
       "Index: []"
      ]
     },
     "execution_count": 5,
     "metadata": {},
     "output_type": "execute_result"
    }
   ],
   "source": [
    "df_weinstein_topcontribs = df_weinstein.groupby('name').amount_wein.sum().to_frame().reset_index()\n",
    "\n",
    "weinstein_sum = df_weinstein.amount_wein.sum()\n",
    "df_weinstein_topcontribs['pct_wein'] = df_weinstein_topcontribs.amount_wein / weinstein_sum\n",
    "\n",
    "df_weinstein_topcontribs.sort_values(by='amount_wein', ascending=False).head(10)"
   ]
  },
  {
   "cell_type": "markdown",
   "id": "1d146ed8-8d02-4aaf-996d-2ddab57101a4",
   "metadata": {},
   "source": [
    "##### Sara Innamorato (state committee)"
   ]
  },
  {
   "cell_type": "code",
   "execution_count": 6,
   "id": "0b2c7a63-ff38-42c5-9e09-0ea8318bf7ab",
   "metadata": {},
   "outputs": [],
   "source": [
    "df_innamorato = get_contributions('input/blank.pdf')\n",
    "df_innamorato = df_innamorato.rename(columns={'amount': 'amount_inna'})\n",
    "\n",
    "df_innamorato['name'] = df_innamorato.name.replace({\n",
    "    \"1776 PAC\": \"1776 PAC (UFCW)\",\n",
    "    \"AFSCME COUNCIL 13\": \"AFSCME COUNCIL 13 POL & LEG ACCT\",\n",
    "    \"EVAN SEGAL\": \"EVAN J. SEGAL\",\n",
    "    \"PENNSYLVANIA SEIU COPE\": \"SEIU HEALTHCARE PA COPE\",\n",
    "    \"PFT POLITICAL ACTION FUND\": \"PFT POL ACTION FUND (PGH FED TEACHERS)\",\n",
    "    \"TEAMSTERS LOCAL UNION 249\": \"LOCAL 0249 TEAMSTERS DRIVE\",\n",
    "    \"TEAMSERS LOCAL UNION 249\": \"LOCAL 0249 TEAMSTERS DRIVE\",\n",
    "    \"TEAMSTERS LOCAL UNION 249 DRIVE FUND\": \"LOCAL 0249 TEAMSTERS DRIVE\",\n",
    "    \"WESTERN PENNSYLVANIA LABORERS POLITICAL ACTION FUND\": \"WESTERN PENNSYLVANIA LABORERS 2019 PAC\",\n",
    "})"
   ]
  },
  {
   "cell_type": "code",
   "execution_count": 7,
   "id": "c801c2e9-cbfc-4d65-ae45-4dfcba870d64",
   "metadata": {},
   "outputs": [
    {
     "data": {
      "text/html": [
       "<div>\n",
       "<style scoped>\n",
       "    .dataframe tbody tr th:only-of-type {\n",
       "        vertical-align: middle;\n",
       "    }\n",
       "\n",
       "    .dataframe tbody tr th {\n",
       "        vertical-align: top;\n",
       "    }\n",
       "\n",
       "    .dataframe thead th {\n",
       "        text-align: right;\n",
       "    }\n",
       "</style>\n",
       "<table border=\"1\" class=\"dataframe\">\n",
       "  <thead>\n",
       "    <tr style=\"text-align: right;\">\n",
       "      <th></th>\n",
       "      <th>name</th>\n",
       "      <th>amount_inna</th>\n",
       "      <th>pct_inna</th>\n",
       "    </tr>\n",
       "  </thead>\n",
       "  <tbody>\n",
       "  </tbody>\n",
       "</table>\n",
       "</div>"
      ],
      "text/plain": [
       "Empty DataFrame\n",
       "Columns: [name, amount_inna, pct_inna]\n",
       "Index: []"
      ]
     },
     "execution_count": 7,
     "metadata": {},
     "output_type": "execute_result"
    }
   ],
   "source": [
    "df_innamorato_topcontribs = df_innamorato.groupby('name').amount_inna.sum().to_frame().reset_index()\n",
    "\n",
    "innamorato_sum = df_innamorato.amount_inna.sum()\n",
    "df_innamorato_topcontribs['pct_inna'] = df_innamorato_topcontribs.amount_inna / innamorato_sum\n",
    "\n",
    "df_innamorato_topcontribs.sort_values(by='amount_inna', ascending=False).head(10)"
   ]
  },
  {
   "cell_type": "code",
   "execution_count": 8,
   "id": "fc249223-36cf-4ec9-ba80-0c3d9a128b98",
   "metadata": {},
   "outputs": [],
   "source": [
    "# lamb"
   ]
  },
  {
   "cell_type": "markdown",
   "id": "08e5196d-4189-4d11-843a-128376d7c630",
   "metadata": {},
   "source": [
    "### Compare Cycle 7 to previous reports"
   ]
  },
  {
   "cell_type": "code",
   "execution_count": 9,
   "id": "edaacfaa-beb1-49d2-9cb5-1c41f927bf65",
   "metadata": {},
   "outputs": [],
   "source": [
    "# "
   ]
  }
 ],
 "metadata": {
  "kernelspec": {
   "display_name": "Python 3 (ipykernel)",
   "language": "python",
   "name": "python3"
  },
  "language_info": {
   "codemirror_mode": {
    "name": "ipython",
    "version": 3
   },
   "file_extension": ".py",
   "mimetype": "text/x-python",
   "name": "python",
   "nbconvert_exporter": "python",
   "pygments_lexer": "ipython3",
   "version": "3.9.15"
  }
 },
 "nbformat": 4,
 "nbformat_minor": 5
}
