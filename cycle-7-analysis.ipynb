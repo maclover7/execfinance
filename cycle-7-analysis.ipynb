{
 "cells": [
  {
   "cell_type": "markdown",
   "id": "744cd275-442a-4fdc-a7dc-c4d8a6b71ffb",
   "metadata": {},
   "source": [
    "# Analyze Cycle 7 reports for County Executive candidates currently in office"
   ]
  },
  {
   "cell_type": "code",
   "execution_count": 1,
   "id": "fa52b158-8983-43da-9503-91a6822a2f2d",
   "metadata": {},
   "outputs": [],
   "source": [
    "import pandas as pd"
   ]
  },
  {
   "cell_type": "markdown",
   "id": "74809893-99d1-4b0c-b327-e2bc8efb9427",
   "metadata": {},
   "source": [
    "### Load analysis from previous reports"
   ]
  },
  {
   "cell_type": "code",
   "execution_count": 2,
   "id": "76cf9c64-8ad7-42ce-b4f4-d800d66a113b",
   "metadata": {},
   "outputs": [],
   "source": [
    "pastleaders = pd.read_csv('output/wein-inna-lamb-top.csv')"
   ]
  },
  {
   "cell_type": "markdown",
   "id": "0c6828b0-da32-47f9-bfa9-2120ced4d4ed",
   "metadata": {},
   "source": [
    "### Load Cycle 7 reports for 2022"
   ]
  },
  {
   "cell_type": "code",
   "execution_count": 3,
   "id": "706f739a-3af9-4040-9696-da3f914c4b14",
   "metadata": {},
   "outputs": [],
   "source": [
    "# wein"
   ]
  },
  {
   "cell_type": "code",
   "execution_count": 4,
   "id": "bacc2275-55f8-4f6f-9378-fd44687e75dd",
   "metadata": {},
   "outputs": [],
   "source": [
    "# inna"
   ]
  },
  {
   "cell_type": "code",
   "execution_count": 5,
   "id": "fc249223-36cf-4ec9-ba80-0c3d9a128b98",
   "metadata": {},
   "outputs": [],
   "source": [
    "# lamb"
   ]
  },
  {
   "cell_type": "markdown",
   "id": "08e5196d-4189-4d11-843a-128376d7c630",
   "metadata": {},
   "source": [
    "### Compare Cycle 7 to previous reports"
   ]
  },
  {
   "cell_type": "code",
   "execution_count": 6,
   "id": "edaacfaa-beb1-49d2-9cb5-1c41f927bf65",
   "metadata": {},
   "outputs": [],
   "source": [
    "# "
   ]
  }
 ],
 "metadata": {
  "kernelspec": {
   "display_name": "Python 3 (ipykernel)",
   "language": "python",
   "name": "python3"
  },
  "language_info": {
   "codemirror_mode": {
    "name": "ipython",
    "version": 3
   },
   "file_extension": ".py",
   "mimetype": "text/x-python",
   "name": "python",
   "nbconvert_exporter": "python",
   "pygments_lexer": "ipython3",
   "version": "3.9.15"
  }
 },
 "nbformat": 4,
 "nbformat_minor": 5
}
