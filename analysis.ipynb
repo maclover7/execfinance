{
 "cells": [
  {
   "cell_type": "markdown",
   "id": "b97b8d9c-7e79-4387-a3b5-31b9a9f44cf2",
   "metadata": {},
   "source": [
    "# Calculate biggest donors for County Executive candidates currently in office"
   ]
  },
  {
   "cell_type": "markdown",
   "id": "a84a39c7-c49b-4533-a02c-684e1450a25d",
   "metadata": {},
   "source": [
    "### John Weinstein (state committee)"
   ]
  },
  {
   "cell_type": "markdown",
   "id": "ad8b0a9e-9abf-4ec4-b28f-e05179cf77f2",
   "metadata": {},
   "source": [
    "### Sara Innamorato (state committee)"
   ]
  },
  {
   "cell_type": "markdown",
   "id": "119c65ac-6a65-4277-b4b6-65cfba3bdfbb",
   "metadata": {},
   "source": [
    "### Michael Lamb (state and local committees)"
   ]
  },
  {
   "cell_type": "markdown",
   "id": "d1afb2be-038c-4887-9753-cce3e56adc0c",
   "metadata": {},
   "source": [
    "### Liv Bennett (local committee)"
   ]
  }
 ],
 "metadata": {
  "kernelspec": {
   "display_name": "Python 3 (ipykernel)",
   "language": "python",
   "name": "python3"
  },
  "language_info": {
   "codemirror_mode": {
    "name": "ipython",
    "version": 3
   },
   "file_extension": ".py",
   "mimetype": "text/x-python",
   "name": "python",
   "nbconvert_exporter": "python",
   "pygments_lexer": "ipython3",
   "version": "3.9.15"
  }
 },
 "nbformat": 4,
 "nbformat_minor": 5
}
